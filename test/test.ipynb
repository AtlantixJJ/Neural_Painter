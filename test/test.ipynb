{
 "cells": [
  {
   "cell_type": "code",
   "execution_count": 1,
   "metadata": {
    "collapsed": false
   },
   "outputs": [
    {
     "name": "stderr",
     "output_type": "stream",
     "text": [
      "Couldn't import dot_parser, loading of dot files will not be possible.\n"
     ]
    }
   ],
   "source": [
    "import tensorflow as tf\n",
    "import numpy as np\n",
    "import matplotlib.pyplot as plt"
   ]
  },
  {
   "cell_type": "code",
   "execution_count": 14,
   "metadata": {
    "collapsed": false
   },
   "outputs": [],
   "source": [
    "N_SAMPLE = 50\n",
    "N_DIM = 2\n",
    "init_weight = [[0.5], [2.0]]\n",
    "\n",
    "lr = tf.placeholder(tf.float32, [], \"learning_rate\")\n",
    "\n",
    "A = tf.placeholder(tf.float32, [None, N_DIM], \"A\")\n",
    "B = tf.placeholder(tf.float32, [None, N_DIM], \"B\")\n",
    "theta = tf.Variable(init_weight)\n",
    "#theta = tf.placeholder(tf.float32, [N_DIM, 1], \"B\")"
   ]
  },
  {
   "cell_type": "code",
   "execution_count": 15,
   "metadata": {
    "collapsed": false
   },
   "outputs": [],
   "source": [
    "# build net\n",
    "net_outA = tf.matmul(A, theta)#, transpose_b=True)\n",
    "net_outB = tf.matmul(B, theta)#, transpose_b=True)\n",
    "# A is real, B is false"
   ]
  },
  {
   "cell_type": "code",
   "execution_count": 16,
   "metadata": {
    "collapsed": false
   },
   "outputs": [],
   "source": [
    "# build loss\n",
    "disc_cost = tf.reduce_mean(tf.nn.softmax_cross_entropy_with_logits(\n",
    "    labels=tf.ones_like(net_outA),\n",
    "    logits=net_outA))\n",
    "disc_cost += tf.reduce_mean(tf.nn.softmax_cross_entropy_with_logits(\n",
    "    labels=tf.zeros_like(net_outB),\n",
    "    logits=net_outB))\n",
    "gen_cost = tf.reduce_mean(tf.nn.softmax_cross_entropy_with_logits(\n",
    "    labels=tf.ones_like(net_outB),\n",
    "    logits=net_outB))"
   ]
  },
  {
   "cell_type": "code",
   "execution_count": 17,
   "metadata": {
    "collapsed": false
   },
   "outputs": [],
   "source": [
    "# build input\n",
    "true_data = np.random.normal(0, 2, (N_SAMPLE, N_DIM))\n",
    "false_data = np.random.uniform(-2, 2, (N_SAMPLE, N_DIM))"
   ]
  },
  {
   "cell_type": "code",
   "execution_count": 12,
   "metadata": {
    "collapsed": true
   },
   "outputs": [],
   "source": [
    "# taking gradient\n",
    "g_theta_disc = tf.gradients(disc_cost, theta)[0]\n",
    "g_theta_gen = tf.gradients(gen_cost, theta)[0]\n",
    "theta_update = tf.assign(theta, -lr * g_theta_disc)\n"
   ]
  },
  {
   "cell_type": "code",
   "execution_count": null,
   "metadata": {
    "collapsed": true
   },
   "outputs": [],
   "source": [
    "update_theta = tf.assign"
   ]
  },
  {
   "cell_type": "code",
   "execution_count": 11,
   "metadata": {
    "collapsed": false
   },
   "outputs": [
    {
     "data": {
      "text/plain": [
       "[<tf.Tensor 'gradients/AddN:0' shape=(2, 1) dtype=float32>]"
      ]
     },
     "execution_count": 11,
     "metadata": {},
     "output_type": "execute_result"
    }
   ],
   "source": [
    "g_theta"
   ]
  },
  {
   "cell_type": "code",
   "execution_count": null,
   "metadata": {
    "collapsed": true
   },
   "outputs": [],
   "source": []
  },
  {
   "cell_type": "code",
   "execution_count": 8,
   "metadata": {
    "collapsed": true
   },
   "outputs": [],
   "source": []
  },
  {
   "cell_type": "code",
   "execution_count": null,
   "metadata": {
    "collapsed": true
   },
   "outputs": [],
   "source": []
  }
 ],
 "metadata": {
  "anaconda-cloud": {},
  "kernelspec": {
   "display_name": "Python [conda env:anaconda2]",
   "language": "python",
   "name": "conda-env-anaconda2-py"
  },
  "language_info": {
   "codemirror_mode": {
    "name": "ipython",
    "version": 2
   },
   "file_extension": ".py",
   "mimetype": "text/x-python",
   "name": "python",
   "nbconvert_exporter": "python",
   "pygments_lexer": "ipython2",
   "version": "2.7.13"
  }
 },
 "nbformat": 4,
 "nbformat_minor": 2
}
